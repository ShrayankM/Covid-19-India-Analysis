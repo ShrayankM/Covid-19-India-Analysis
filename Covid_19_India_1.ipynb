{
  "nbformat": 4,
  "nbformat_minor": 0,
  "metadata": {
    "colab": {
      "name": "Covid_19_India_1.ipynb",
      "provenance": [],
      "collapsed_sections": [],
      "authorship_tag": "ABX9TyMr48M7Jog63ILIUQaiSQMy",
      "include_colab_link": true
    },
    "kernelspec": {
      "name": "python3",
      "display_name": "Python 3"
    }
  },
  "cells": [
    {
      "cell_type": "markdown",
      "metadata": {
        "id": "view-in-github",
        "colab_type": "text"
      },
      "source": [
        "<a href=\"https://colab.research.google.com/github/ShrayankM/Covid-19_India_Analysis/blob/master/Covid_19_India_1.ipynb\" target=\"_parent\"><img src=\"https://colab.research.google.com/assets/colab-badge.svg\" alt=\"Open In Colab\"/></a>"
      ]
    },
    {
      "cell_type": "markdown",
      "metadata": {
        "id": "MJINNn3l49_a",
        "colab_type": "text"
      },
      "source": [
        "## Insight into Covid-19 Case Rise in India\n",
        "**Months February, March, April**"
      ]
    },
    {
      "cell_type": "code",
      "metadata": {
        "id": "JZ_-o_7GxW20",
        "colab_type": "code",
        "colab": {}
      },
      "source": [
        "import numpy as np"
      ],
      "execution_count": 0,
      "outputs": []
    },
    {
      "cell_type": "code",
      "metadata": {
        "id": "FeP6ekV0zvpC",
        "colab_type": "code",
        "colab": {}
      },
      "source": [
        "data_covid = np.genfromtxt(\"covid_19_india.csv\",skip_header=1,delimiter=',')"
      ],
      "execution_count": 0,
      "outputs": []
    },
    {
      "cell_type": "code",
      "metadata": {
        "id": "gUoN2eB30E9K",
        "colab_type": "code",
        "outputId": "91d4863a-efd7-41c1-ae33-122d9db4593d",
        "colab": {
          "base_uri": "https://localhost:8080/",
          "height": 35
        }
      },
      "source": [
        "data_covid.shape"
      ],
      "execution_count": 0,
      "outputs": [
        {
          "output_type": "execute_result",
          "data": {
            "text/plain": [
              "(739, 9)"
            ]
          },
          "metadata": {
            "tags": []
          },
          "execution_count": 3
        }
      ]
    },
    {
      "cell_type": "code",
      "metadata": {
        "id": "xp_4tiKK0Ipe",
        "colab_type": "code",
        "outputId": "b6655102-d0ef-48c4-f6c3-b65cc71a2ea5",
        "colab": {
          "base_uri": "https://localhost:8080/",
          "height": 145
        }
      },
      "source": [
        "print(data_covid)"
      ],
      "execution_count": 0,
      "outputs": [
        {
          "output_type": "stream",
          "text": [
            "[[  1.  nan  nan ...   0.   0.   1.]\n",
            " [  2.  nan  nan ...   0.   0.   1.]\n",
            " [  3.  nan  nan ...   0.   0.   2.]\n",
            " ...\n",
            " [737.  nan  nan ...   5.   0.  31.]\n",
            " [738.  nan  nan ...  21.   3. 305.]\n",
            " [739.  nan  nan ...  13.   3.  91.]]\n"
          ],
          "name": "stdout"
        }
      ]
    },
    {
      "cell_type": "code",
      "metadata": {
        "id": "0LSesy350iAD",
        "colab_type": "code",
        "colab": {}
      },
      "source": [
        "total = np.sum(data_covid[709:,-1])"
      ],
      "execution_count": 0,
      "outputs": []
    },
    {
      "cell_type": "code",
      "metadata": {
        "id": "PtPj3yaH0jTu",
        "colab_type": "code",
        "outputId": "1cbc51d2-52f2-479c-ecb0-8fd74beea7c7",
        "colab": {
          "base_uri": "https://localhost:8080/",
          "height": 35
        }
      },
      "source": [
        "total"
      ],
      "execution_count": 0,
      "outputs": [
        {
          "output_type": "execute_result",
          "data": {
            "text/plain": [
              "4155.0"
            ]
          },
          "metadata": {
            "tags": []
          },
          "execution_count": 6
        }
      ]
    },
    {
      "cell_type": "code",
      "metadata": {
        "id": "iAVtvh5R2YnW",
        "colab_type": "code",
        "colab": {}
      },
      "source": [
        "import pandas as pd"
      ],
      "execution_count": 0,
      "outputs": []
    },
    {
      "cell_type": "code",
      "metadata": {
        "id": "-bXvQqel3Oos",
        "colab_type": "code",
        "colab": {}
      },
      "source": [
        "data_covid = pd.read_csv(\"covid_19_india.csv\")"
      ],
      "execution_count": 0,
      "outputs": []
    },
    {
      "cell_type": "code",
      "metadata": {
        "id": "_FQZGhHL3YBu",
        "colab_type": "code",
        "outputId": "da6862cd-77d3-4800-a2bf-c7e419021d08",
        "colab": {
          "base_uri": "https://localhost:8080/",
          "height": 198
        }
      },
      "source": [
        "data_covid.head()"
      ],
      "execution_count": 0,
      "outputs": [
        {
          "output_type": "execute_result",
          "data": {
            "text/html": [
              "<div>\n",
              "<style scoped>\n",
              "    .dataframe tbody tr th:only-of-type {\n",
              "        vertical-align: middle;\n",
              "    }\n",
              "\n",
              "    .dataframe tbody tr th {\n",
              "        vertical-align: top;\n",
              "    }\n",
              "\n",
              "    .dataframe thead th {\n",
              "        text-align: right;\n",
              "    }\n",
              "</style>\n",
              "<table border=\"1\" class=\"dataframe\">\n",
              "  <thead>\n",
              "    <tr style=\"text-align: right;\">\n",
              "      <th></th>\n",
              "      <th>Sno</th>\n",
              "      <th>Date</th>\n",
              "      <th>Time</th>\n",
              "      <th>State/UnionTerritory</th>\n",
              "      <th>ConfirmedIndianNational</th>\n",
              "      <th>ConfirmedForeignNational</th>\n",
              "      <th>Cured</th>\n",
              "      <th>Deaths</th>\n",
              "      <th>Confirmed</th>\n",
              "    </tr>\n",
              "  </thead>\n",
              "  <tbody>\n",
              "    <tr>\n",
              "      <th>0</th>\n",
              "      <td>1</td>\n",
              "      <td>30/01/20</td>\n",
              "      <td>6:00 PM</td>\n",
              "      <td>Kerala</td>\n",
              "      <td>1</td>\n",
              "      <td>0</td>\n",
              "      <td>0</td>\n",
              "      <td>0</td>\n",
              "      <td>1</td>\n",
              "    </tr>\n",
              "    <tr>\n",
              "      <th>1</th>\n",
              "      <td>2</td>\n",
              "      <td>31/01/20</td>\n",
              "      <td>6:00 PM</td>\n",
              "      <td>Kerala</td>\n",
              "      <td>1</td>\n",
              "      <td>0</td>\n",
              "      <td>0</td>\n",
              "      <td>0</td>\n",
              "      <td>1</td>\n",
              "    </tr>\n",
              "    <tr>\n",
              "      <th>2</th>\n",
              "      <td>3</td>\n",
              "      <td>01/02/20</td>\n",
              "      <td>6:00 PM</td>\n",
              "      <td>Kerala</td>\n",
              "      <td>2</td>\n",
              "      <td>0</td>\n",
              "      <td>0</td>\n",
              "      <td>0</td>\n",
              "      <td>2</td>\n",
              "    </tr>\n",
              "    <tr>\n",
              "      <th>3</th>\n",
              "      <td>4</td>\n",
              "      <td>02/02/20</td>\n",
              "      <td>6:00 PM</td>\n",
              "      <td>Kerala</td>\n",
              "      <td>3</td>\n",
              "      <td>0</td>\n",
              "      <td>0</td>\n",
              "      <td>0</td>\n",
              "      <td>3</td>\n",
              "    </tr>\n",
              "    <tr>\n",
              "      <th>4</th>\n",
              "      <td>5</td>\n",
              "      <td>03/02/20</td>\n",
              "      <td>6:00 PM</td>\n",
              "      <td>Kerala</td>\n",
              "      <td>3</td>\n",
              "      <td>0</td>\n",
              "      <td>0</td>\n",
              "      <td>0</td>\n",
              "      <td>3</td>\n",
              "    </tr>\n",
              "  </tbody>\n",
              "</table>\n",
              "</div>"
            ],
            "text/plain": [
              "   Sno      Date     Time  ... Cured Deaths Confirmed\n",
              "0    1  30/01/20  6:00 PM  ...     0      0         1\n",
              "1    2  31/01/20  6:00 PM  ...     0      0         1\n",
              "2    3  01/02/20  6:00 PM  ...     0      0         2\n",
              "3    4  02/02/20  6:00 PM  ...     0      0         3\n",
              "4    5  03/02/20  6:00 PM  ...     0      0         3\n",
              "\n",
              "[5 rows x 9 columns]"
            ]
          },
          "metadata": {
            "tags": []
          },
          "execution_count": 9
        }
      ]
    },
    {
      "cell_type": "code",
      "metadata": {
        "id": "7Vq-QVdO3aDl",
        "colab_type": "code",
        "colab": {}
      },
      "source": [
        "confirm_cases = data_covid['Confirmed']"
      ],
      "execution_count": 0,
      "outputs": []
    },
    {
      "cell_type": "code",
      "metadata": {
        "id": "VXrRRHsa3kmY",
        "colab_type": "code",
        "outputId": "2a4a08a7-80b6-4cc5-ef19-836d1447fa76",
        "colab": {
          "base_uri": "https://localhost:8080/",
          "height": 35
        }
      },
      "source": [
        "type(confirm_cases)"
      ],
      "execution_count": 0,
      "outputs": [
        {
          "output_type": "execute_result",
          "data": {
            "text/plain": [
              "pandas.core.series.Series"
            ]
          },
          "metadata": {
            "tags": []
          },
          "execution_count": 11
        }
      ]
    },
    {
      "cell_type": "code",
      "metadata": {
        "id": "IFx8EAAN4OXm",
        "colab_type": "code",
        "colab": {}
      },
      "source": [
        "date_data = data_covid['Date']"
      ],
      "execution_count": 0,
      "outputs": []
    },
    {
      "cell_type": "code",
      "metadata": {
        "id": "r8d43uP34V7I",
        "colab_type": "code",
        "outputId": "0c471ba2-4e29-4456-9eb0-550d6e81c4ad",
        "colab": {
          "base_uri": "https://localhost:8080/",
          "height": 35
        }
      },
      "source": [
        "date_data.shape"
      ],
      "execution_count": 0,
      "outputs": [
        {
          "output_type": "execute_result",
          "data": {
            "text/plain": [
              "(739,)"
            ]
          },
          "metadata": {
            "tags": []
          },
          "execution_count": 13
        }
      ]
    },
    {
      "cell_type": "code",
      "metadata": {
        "id": "R1F45Lwz4fvW",
        "colab_type": "code",
        "colab": {}
      },
      "source": [
        "new_date_array = np.array(date_data)"
      ],
      "execution_count": 0,
      "outputs": []
    },
    {
      "cell_type": "code",
      "metadata": {
        "id": "yeyuHufc45Q1",
        "colab_type": "code",
        "outputId": "d888b126-19d5-488c-cec1-9e3bfc4f4e81",
        "colab": {
          "base_uri": "https://localhost:8080/",
          "height": 145
        }
      },
      "source": [
        "new_date_array[new_date_array == '07/04/20']"
      ],
      "execution_count": 0,
      "outputs": [
        {
          "output_type": "execute_result",
          "data": {
            "text/plain": [
              "array(['07/04/20', '07/04/20', '07/04/20', '07/04/20', '07/04/20',\n",
              "       '07/04/20', '07/04/20', '07/04/20', '07/04/20', '07/04/20',\n",
              "       '07/04/20', '07/04/20', '07/04/20', '07/04/20', '07/04/20',\n",
              "       '07/04/20', '07/04/20', '07/04/20', '07/04/20', '07/04/20',\n",
              "       '07/04/20', '07/04/20', '07/04/20', '07/04/20', '07/04/20',\n",
              "       '07/04/20', '07/04/20', '07/04/20', '07/04/20', '07/04/20',\n",
              "       '07/04/20'], dtype=object)"
            ]
          },
          "metadata": {
            "tags": []
          },
          "execution_count": 15
        }
      ]
    },
    {
      "cell_type": "code",
      "metadata": {
        "id": "cs7LoFvf5PeO",
        "colab_type": "code",
        "colab": {}
      },
      "source": [
        "confirm_array = np.array(confirm_cases)"
      ],
      "execution_count": 0,
      "outputs": []
    },
    {
      "cell_type": "code",
      "metadata": {
        "id": "QLuzeCSu5wWe",
        "colab_type": "code",
        "colab": {}
      },
      "source": [
        "date_7_march = confirm_array[new_date_array == '07/04/20']"
      ],
      "execution_count": 0,
      "outputs": []
    },
    {
      "cell_type": "code",
      "metadata": {
        "id": "-qgx4qnD5x1r",
        "colab_type": "code",
        "outputId": "b57a534c-8b5d-4532-e406-5d915d7b39c1",
        "colab": {
          "base_uri": "https://localhost:8080/",
          "height": 72
        }
      },
      "source": [
        "date_7_march"
      ],
      "execution_count": 0,
      "outputs": [
        {
          "output_type": "execute_result",
          "data": {
            "text/plain": [
              "array([266,  10,   1,  26,  32,  18,  10, 523,   7, 144,  90,  13, 109,\n",
              "         4, 151, 327,  14, 165, 748,   2,   1,  21,   5,  76, 288, 621,\n",
              "       321,   1,  31, 305,  91])"
            ]
          },
          "metadata": {
            "tags": []
          },
          "execution_count": 18
        }
      ]
    },
    {
      "cell_type": "code",
      "metadata": {
        "id": "9K1V5oFP6Czi",
        "colab_type": "code",
        "outputId": "5a71a08d-824d-47b9-ce37-a15685617cdc",
        "colab": {
          "base_uri": "https://localhost:8080/",
          "height": 35
        }
      },
      "source": [
        "np.sum(date_7_march)"
      ],
      "execution_count": 0,
      "outputs": [
        {
          "output_type": "execute_result",
          "data": {
            "text/plain": [
              "4421"
            ]
          },
          "metadata": {
            "tags": []
          },
          "execution_count": 19
        }
      ]
    },
    {
      "cell_type": "code",
      "metadata": {
        "id": "2DFMEmi86HUD",
        "colab_type": "code",
        "colab": {}
      },
      "source": [
        "feb_month = []\n",
        "for i in range(1,30):\n",
        "    if i < 10:\n",
        "        date_str = '0'+str(i)+\"/02/20\"\n",
        "    else:\n",
        "        date_str =  str(i)+\"/02/20\"\n",
        "    feb_month.append(np.sum(confirm_array[new_date_array == date_str]))"
      ],
      "execution_count": 0,
      "outputs": []
    },
    {
      "cell_type": "markdown",
      "metadata": {
        "id": "yRZxB7wU5MO5",
        "colab_type": "text"
      },
      "source": [
        "**February Case Rise**"
      ]
    },
    {
      "cell_type": "code",
      "metadata": {
        "id": "k_8uhNqW7CHY",
        "colab_type": "code",
        "outputId": "d67037d0-9df3-4130-a70f-7bcb74c8825f",
        "colab": {
          "base_uri": "https://localhost:8080/",
          "height": 35
        }
      },
      "source": [
        "print(feb_month)"
      ],
      "execution_count": 0,
      "outputs": [
        {
          "output_type": "stream",
          "text": [
            "[2, 3, 3, 3, 3, 3, 3, 3, 3, 3, 3, 3, 3, 3, 3, 3, 3, 3, 3, 3, 3, 3, 3, 3, 3, 3, 3, 3, 3]\n"
          ],
          "name": "stdout"
        }
      ]
    },
    {
      "cell_type": "code",
      "metadata": {
        "id": "wkOuQyb-7d3H",
        "colab_type": "code",
        "colab": {}
      },
      "source": [
        "march_month = []\n",
        "for i in range(1,32):\n",
        "    if i < 10:\n",
        "        date_str = '0'+str(i)+\"/03/20\"\n",
        "    else:\n",
        "        date_str =  str(i)+\"/03/20\"\n",
        "    march_month.append(np.sum(confirm_array[new_date_array == date_str]))"
      ],
      "execution_count": 0,
      "outputs": []
    },
    {
      "cell_type": "markdown",
      "metadata": {
        "id": "FvWHr5lo5QcU",
        "colab_type": "text"
      },
      "source": [
        "**March Case Rise**"
      ]
    },
    {
      "cell_type": "code",
      "metadata": {
        "id": "rMn7Qmh77qo_",
        "colab_type": "code",
        "outputId": "1cfa975b-ff53-4a06-a6a5-97c2edeb1213",
        "colab": {
          "base_uri": "https://localhost:8080/",
          "height": 55
        }
      },
      "source": [
        "print(march_month)"
      ],
      "execution_count": 0,
      "outputs": [
        {
          "output_type": "stream",
          "text": [
            "[3, 5, 6, 28, 30, 31, 34, 39, 46, 58, 60, 74, 81, 84, 110, 114, 137, 151, 173, 223, 283, 360, 433, 519, 606, 694, 724, 909, 1024, 1251, 1397]\n"
          ],
          "name": "stdout"
        }
      ]
    },
    {
      "cell_type": "code",
      "metadata": {
        "id": "qDocLI717sR9",
        "colab_type": "code",
        "colab": {}
      },
      "source": [
        "april_month = []\n",
        "for i in range(1,8):\n",
        "    if i < 10:\n",
        "        date_str = '0'+str(i)+\"/04/20\"\n",
        "    else:\n",
        "        date_str =  str(i)+\"/04/20\"\n",
        "    april_month.append(np.sum(confirm_array[new_date_array == date_str]))"
      ],
      "execution_count": 0,
      "outputs": []
    },
    {
      "cell_type": "markdown",
      "metadata": {
        "id": "l2BtVRpS5T7U",
        "colab_type": "text"
      },
      "source": [
        "**April Case Rise**"
      ]
    },
    {
      "cell_type": "code",
      "metadata": {
        "id": "VhlgKcun78bl",
        "colab_type": "code",
        "outputId": "339ff93f-4e25-4df0-c92f-65420f164a56",
        "colab": {
          "base_uri": "https://localhost:8080/",
          "height": 35
        }
      },
      "source": [
        "print(april_month)"
      ],
      "execution_count": 0,
      "outputs": [
        {
          "output_type": "execute_result",
          "data": {
            "text/plain": [
              "[1834, 2069, 2547, 3072, 3577, 4281, 4421]"
            ]
          },
          "metadata": {
            "tags": []
          },
          "execution_count": 25
        }
      ]
    },
    {
      "cell_type": "code",
      "metadata": {
        "id": "7zV6kktP_1Z9",
        "colab_type": "code",
        "colab": {}
      },
      "source": [
        "date_feb_month = np.arange(1,30,1)\n",
        "dates_march_month = np.arange(1,32,1)\n",
        "date_april_month = np.arange(1,8,1)"
      ],
      "execution_count": 0,
      "outputs": []
    },
    {
      "cell_type": "code",
      "metadata": {
        "id": "WX2E7eHY-PMH",
        "colab_type": "code",
        "colab": {}
      },
      "source": [
        "import matplotlib.pyplot as plt"
      ],
      "execution_count": 0,
      "outputs": []
    },
    {
      "cell_type": "markdown",
      "metadata": {
        "id": "zuktPKtv5fEX",
        "colab_type": "text"
      },
      "source": [
        "**Plot for Month of February**"
      ]
    },
    {
      "cell_type": "code",
      "metadata": {
        "id": "_4r2nFbC_ktt",
        "colab_type": "code",
        "outputId": "7b41414e-11a9-4722-9931-c9fa30eb84bd",
        "colab": {
          "base_uri": "https://localhost:8080/",
          "height": 279
        }
      },
      "source": [
        "plt.plot(date_feb_month,feb_month, color='green', linestyle='-', linewidth = 3, \n",
        "         marker='o', markerfacecolor='blue', markersize=4)\n",
        "plt.xlabel(\"Days\")\n",
        "plt.ylabel(\"Cases\")\n",
        "plt.show()"
      ],
      "execution_count": 0,
      "outputs": [
        {
          "output_type": "display_data",
          "data": {
            "image/png": "[encoded data removed]",
            "text/plain": [
              "<Figure size 432x288 with 1 Axes>"
            ]
          },
          "metadata": {
            "tags": []
          }
        }
      ]
    },
    {
      "cell_type": "markdown",
      "metadata": {
        "id": "WD8elK7m5jdw",
        "colab_type": "text"
      },
      "source": [
        "**Plot for Month of March**"
      ]
    },
    {
      "cell_type": "code",
      "metadata": {
        "id": "qT611RYp_pPz",
        "colab_type": "code",
        "outputId": "1350d262-87a3-4f0c-8c4a-a32c115d8a6f",
        "colab": {
          "base_uri": "https://localhost:8080/",
          "height": 279
        }
      },
      "source": [
        "plt.plot(dates_march_month,march_month, color='green', linestyle='-', linewidth = 3, \n",
        "         marker='o', markerfacecolor='blue', markersize=4)\n",
        "plt.xlabel(\"Days\")\n",
        "plt.ylabel(\"Cases\")\n",
        "plt.show()"
      ],
      "execution_count": 0,
      "outputs": [
        {
          "output_type": "display_data",
          "data": {
            "image/png": "[encoded data removed]",
            "text/plain": [
              "<Figure size 432x288 with 1 Axes>"
            ]
          },
          "metadata": {
            "tags": []
          }
        }
      ]
    },
    {
      "cell_type": "markdown",
      "metadata": {
        "id": "Ig2Fsn1l5nAU",
        "colab_type": "text"
      },
      "source": [
        "**Plot for month April**"
      ]
    },
    {
      "cell_type": "code",
      "metadata": {
        "id": "vSJ4E6lrADw-",
        "colab_type": "code",
        "outputId": "a1ec6301-a1de-4890-da83-5903d51e275b",
        "colab": {
          "base_uri": "https://localhost:8080/",
          "height": 279
        }
      },
      "source": [
        "plt.plot(date_april_month,april_month, color='green', linestyle='-', linewidth = 3, \n",
        "         marker='o', markerfacecolor='blue', markersize=4)\n",
        "plt.xlabel(\"Days\")\n",
        "plt.ylabel(\"Cases\")\n",
        "plt.show()\n"
      ],
      "execution_count": 0,
      "outputs": [
        {
          "output_type": "display_data",
          "data": {
            "image/png": "[encoded data removed]",
            "text/plain": [
              "<Figure size 432x288 with 1 Axes>"
            ]
          },
          "metadata": {
            "tags": []
          }
        }
      ]
    },
    {
      "cell_type": "code",
      "metadata": {
        "id": "SBSEdrVyC5QM",
        "colab_type": "code",
        "colab": {}
      },
      "source": [
        "march_array = np.array(march_month)"
      ],
      "execution_count": 0,
      "outputs": []
    },
    {
      "cell_type": "code",
      "metadata": {
        "id": "70Wj123VD4aT",
        "colab_type": "code",
        "colab": {}
      },
      "source": [
        "april_array = np.array(april_month)"
      ],
      "execution_count": 0,
      "outputs": []
    },
    {
      "cell_type": "code",
      "metadata": {
        "id": "rb0EJ1lqAHPB",
        "colab_type": "code",
        "colab": {}
      },
      "source": [
        "percentage_march = ((march_array[1:] - march_array[0:30]) / march_array[0:30]) * 100"
      ],
      "execution_count": 0,
      "outputs": []
    },
    {
      "cell_type": "markdown",
      "metadata": {
        "id": "wD89V0hE5rVo",
        "colab_type": "text"
      },
      "source": [
        "**Percentage growth per day for month March**"
      ]
    },
    {
      "cell_type": "code",
      "metadata": {
        "id": "Bxr0pRERDYKj",
        "colab_type": "code",
        "outputId": "78051f49-b281-425e-c827-1a3b106af069",
        "colab": {
          "base_uri": "https://localhost:8080/",
          "height": 163
        }
      },
      "source": [
        "percentage_march"
      ],
      "execution_count": 0,
      "outputs": [
        {
          "output_type": "execute_result",
          "data": {
            "text/plain": [
              "array([ 66.66666667,  20.        , 366.66666667,   7.14285714,\n",
              "         3.33333333,   9.67741935,  14.70588235,  17.94871795,\n",
              "        26.08695652,   3.44827586,  23.33333333,   9.45945946,\n",
              "         3.7037037 ,  30.95238095,   3.63636364,  20.1754386 ,\n",
              "        10.2189781 ,  14.56953642,  28.9017341 ,  26.9058296 ,\n",
              "        27.20848057,  20.27777778,  19.86143187,  16.76300578,\n",
              "        14.52145215,   4.32276657,  25.55248619,  12.65126513,\n",
              "        22.16796875,  11.67066347])"
            ]
          },
          "metadata": {
            "tags": []
          },
          "execution_count": 39
        }
      ]
    },
    {
      "cell_type": "code",
      "metadata": {
        "id": "qxvvA1DODmdQ",
        "colab_type": "code",
        "colab": {}
      },
      "source": [
        "percentage_april = ((april_array[1:] - april_array[0:6]) / april_array[0:6]) * 100"
      ],
      "execution_count": 0,
      "outputs": []
    },
    {
      "cell_type": "markdown",
      "metadata": {
        "id": "A22lFBUE5wsy",
        "colab_type": "text"
      },
      "source": [
        "**Percentage growth for month April**"
      ]
    },
    {
      "cell_type": "code",
      "metadata": {
        "id": "YFAyb71IEGOq",
        "colab_type": "code",
        "outputId": "22a67496-d05e-4ed8-e456-a16f96754415",
        "colab": {
          "base_uri": "https://localhost:8080/",
          "height": 54
        }
      },
      "source": [
        "percentage_april"
      ],
      "execution_count": 0,
      "outputs": [
        {
          "output_type": "execute_result",
          "data": {
            "text/plain": [
              "array([12.81352236, 23.10294828, 20.61248528, 16.43880208, 19.68129718,\n",
              "        3.27026396])"
            ]
          },
          "metadata": {
            "tags": []
          },
          "execution_count": 41
        }
      ]
    },
    {
      "cell_type": "code",
      "metadata": {
        "id": "tL7O6lSV12G4",
        "colab_type": "code",
        "colab": {}
      },
      "source": [
        "average_rise_march = (np.sum(percentage_march) - 366.666)/len(march_month) - 1"
      ],
      "execution_count": 0,
      "outputs": []
    },
    {
      "cell_type": "code",
      "metadata": {
        "id": "f9lmAFeb2MSr",
        "colab_type": "code",
        "colab": {}
      },
      "source": [
        "average_rise_april = np.mean(percentage_april)"
      ],
      "execution_count": 0,
      "outputs": []
    },
    {
      "cell_type": "code",
      "metadata": {
        "id": "RRWbEqS82T2j",
        "colab_type": "code",
        "colab": {}
      },
      "source": [
        "average_rise_india = np.mean([average_rise_march,average_rise_april ] )"
      ],
      "execution_count": 0,
      "outputs": []
    },
    {
      "cell_type": "markdown",
      "metadata": {
        "id": "F4V2At-g50y_",
        "colab_type": "text"
      },
      "source": [
        "**Average percentage rise in India**"
      ]
    },
    {
      "cell_type": "code",
      "metadata": {
        "id": "sW6CMfmk2e22",
        "colab_type": "code",
        "outputId": "d74106d9-ec83-4ccf-b539-b10959539d3d",
        "colab": {
          "base_uri": "https://localhost:8080/",
          "height": 35
        }
      },
      "source": [
        "average_rise_india"
      ],
      "execution_count": 0,
      "outputs": [
        {
          "output_type": "execute_result",
          "data": {
            "text/plain": [
              "15.813677110593158"
            ]
          },
          "metadata": {
            "tags": []
          },
          "execution_count": 71
        }
      ]
    },
    {
      "cell_type": "code",
      "metadata": {
        "id": "7GgxDc1cEIoL",
        "colab_type": "code",
        "colab": {}
      },
      "source": [
        "total_days = len(feb_month) + len(march_month) + len(april_month)"
      ],
      "execution_count": 0,
      "outputs": []
    },
    {
      "cell_type": "code",
      "metadata": {
        "id": "7OFnK4O6yJJg",
        "colab_type": "code",
        "outputId": "3bc8f511-820c-411a-f5c8-3befaede8b31",
        "colab": {
          "base_uri": "https://localhost:8080/",
          "height": 35
        }
      },
      "source": [
        "total_days"
      ],
      "execution_count": 0,
      "outputs": [
        {
          "output_type": "execute_result",
          "data": {
            "text/plain": [
              "67"
            ]
          },
          "metadata": {
            "tags": []
          },
          "execution_count": 45
        }
      ]
    },
    {
      "cell_type": "code",
      "metadata": {
        "id": "LOkO-AiGyK5f",
        "colab_type": "code",
        "outputId": "1efa9630-7f52-4dcf-b03a-30ac044b2671",
        "colab": {
          "base_uri": "https://localhost:8080/",
          "height": 35
        }
      },
      "source": [
        "type(feb_month)"
      ],
      "execution_count": 0,
      "outputs": [
        {
          "output_type": "execute_result",
          "data": {
            "text/plain": [
              "list"
            ]
          },
          "metadata": {
            "tags": []
          },
          "execution_count": 49
        }
      ]
    },
    {
      "cell_type": "code",
      "metadata": {
        "id": "r5QyjMYWyfwc",
        "colab_type": "code",
        "colab": {}
      },
      "source": [
        "rise_in_cases = []\n",
        "for item in feb_month:\n",
        "    rise_in_cases.append(item)\n",
        "for item in march_month:\n",
        "    rise_in_cases.append(item)\n",
        "for item in april_month:\n",
        "    rise_in_cases.append(item)"
      ],
      "execution_count": 0,
      "outputs": []
    },
    {
      "cell_type": "code",
      "metadata": {
        "id": "lBnMPasazmn4",
        "colab_type": "code",
        "outputId": "c437886f-db46-4e35-c334-e477a41c3dba",
        "colab": {
          "base_uri": "https://localhost:8080/",
          "height": 55
        }
      },
      "source": [
        "print(rise_in_cases)"
      ],
      "execution_count": 0,
      "outputs": [
        {
          "output_type": "stream",
          "text": [
            "[2, 3, 3, 3, 3, 3, 3, 3, 3, 3, 3, 3, 3, 3, 3, 3, 3, 3, 3, 3, 3, 3, 3, 3, 3, 3, 3, 3, 3, 3, 5, 6, 28, 30, 31, 34, 39, 46, 58, 60, 74, 81, 84, 110, 114, 137, 151, 173, 223, 283, 360, 433, 519, 606, 694, 724, 909, 1024, 1251, 1397, 1834, 2069, 2547, 3072, 3577, 4281, 4421]\n"
          ],
          "name": "stdout"
        }
      ]
    },
    {
      "cell_type": "code",
      "metadata": {
        "id": "Ba61Z6PqzXsA",
        "colab_type": "code",
        "colab": {}
      },
      "source": [
        "days = np.arange(1,(total_days+1),1)"
      ],
      "execution_count": 0,
      "outputs": []
    },
    {
      "cell_type": "markdown",
      "metadata": {
        "id": "HZ0eqcL055Tw",
        "colab_type": "text"
      },
      "source": [
        "**Overall Case rise in India**"
      ]
    },
    {
      "cell_type": "code",
      "metadata": {
        "id": "AeIipESZzCtd",
        "colab_type": "code",
        "outputId": "bed1ca14-eb99-4e5a-9054-1ffd827e198f",
        "colab": {
          "base_uri": "https://localhost:8080/",
          "height": 279
        }
      },
      "source": [
        "plt.plot(days, rise_in_cases, color='green', linestyle='dashed', linewidth = 3, \n",
        "         marker='o', markerfacecolor='blue', markersize=4)\n",
        "plt.xlabel(\"Days\")\n",
        "plt.ylabel(\"Cases\")\n",
        "plt.show()"
      ],
      "execution_count": 0,
      "outputs": [
        {
          "output_type": "display_data",
          "data": {
            "image/png": "[encoded data removed]",
            "text/plain": [
              "<Figure size 432x288 with 1 Axes>"
            ]
          },
          "metadata": {
            "tags": []
          }
        }
      ]
    },
    {
      "cell_type": "markdown",
      "metadata": {
        "id": "ppg4JR3841Uf",
        "colab_type": "text"
      },
      "source": [
        "## Future prediction of Covid-19 Cases in India"
      ]
    },
    {
      "cell_type": "code",
      "metadata": {
        "id": "aYST7ogI2xgF",
        "colab_type": "code",
        "outputId": "4b26a448-2ace-4bca-c7f2-62e29f0587c5",
        "colab": {
          "base_uri": "https://localhost:8080/",
          "height": 35
        }
      },
      "source": [
        "average_rise_india"
      ],
      "execution_count": 0,
      "outputs": [
        {
          "output_type": "execute_result",
          "data": {
            "text/plain": [
              "15.813677110593158"
            ]
          },
          "metadata": {
            "tags": []
          },
          "execution_count": 72
        }
      ]
    },
    {
      "cell_type": "code",
      "metadata": {
        "id": "n4sO40IV0dUV",
        "colab_type": "code",
        "colab": {}
      },
      "source": [
        "today_cases = 4421 #7 April 2020"
      ],
      "execution_count": 0,
      "outputs": []
    },
    {
      "cell_type": "code",
      "metadata": {
        "id": "NDxl1Xbk21tM",
        "colab_type": "code",
        "outputId": "325b25f1-e054-4bf2-923b-8c6f4b9c7804",
        "colab": {
          "base_uri": "https://localhost:8080/",
          "height": 35
        }
      },
      "source": [
        "(4421 * 15)/100 #average increase per day"
      ],
      "execution_count": 0,
      "outputs": [
        {
          "output_type": "execute_result",
          "data": {
            "text/plain": [
              "663.15"
            ]
          },
          "metadata": {
            "tags": []
          },
          "execution_count": 74
        }
      ]
    },
    {
      "cell_type": "code",
      "metadata": {
        "id": "VJNtCUC024G9",
        "colab_type": "code",
        "colab": {}
      },
      "source": [
        "next_30_days_project = []\n",
        "current_cases = today_cases\n",
        "for i in range(30):\n",
        "    cases = current_cases + ((current_cases * average_rise_india)/100)\n",
        "    next_30_days_project.append(cases)\n",
        "    current_cases = cases"
      ],
      "execution_count": 0,
      "outputs": []
    },
    {
      "cell_type": "code",
      "metadata": {
        "id": "kpBCxRD_3byp",
        "colab_type": "code",
        "outputId": "14c38302-b68d-4359-a8ed-825db4f69a9b",
        "colab": {
          "base_uri": "https://localhost:8080/",
          "height": 55
        }
      },
      "source": [
        "print(next_30_days_project)"
      ],
      "execution_count": 0,
      "outputs": [
        {
          "output_type": "stream",
          "text": [
            "[5120.1226650593235, 5929.802330978102, 6867.522124895406, 7953.529899224912, 9211.275436382824, 10667.916791659785, 12354.906707519613, 14308.67176156178, 16571.39891274978, 19191.946429520376, 22226.898869122742, 25741.788887983894, 29812.512265220215, 34526.96669339812, 39986.94972237414, 46310.35683784562, 53633.72713694602, 62115.19156875925, 71937.88740006922, 83313.91263369824, 96488.90576579297, 111747.34977113997, 129418.7148435932, 149884.57252963833, 173586.83486806814, 201037.29644060298, 232828.68537158592, 269647.46189708734, 312288.6408584025, 361672.9581768101]\n"
          ],
          "name": "stdout"
        }
      ]
    },
    {
      "cell_type": "code",
      "metadata": {
        "id": "-gXN_Jzq4hOM",
        "colab_type": "code",
        "colab": {}
      },
      "source": [
        "month_days = np.arange(1,31,1)"
      ],
      "execution_count": 0,
      "outputs": []
    },
    {
      "cell_type": "markdown",
      "metadata": {
        "id": "v_ETCTTq59s7",
        "colab_type": "text"
      },
      "source": [
        "**Prediction Rise of Cases for next 30 days**"
      ]
    },
    {
      "cell_type": "code",
      "metadata": {
        "id": "orq5vFfk3gUW",
        "colab_type": "code",
        "outputId": "9aebdb60-9a9f-4dd1-d29f-10374fd747c4",
        "colab": {
          "base_uri": "https://localhost:8080/",
          "height": 279
        }
      },
      "source": [
        "plt.plot(month_days, next_30_days_project, color='green', linestyle='dashed', linewidth = 3, \n",
        "         marker='o', markerfacecolor='blue', markersize=4)\n",
        "plt.xlabel(\"Days\")\n",
        "plt.ylabel(\"Cases\")\n",
        "plt.show()"
      ],
      "execution_count": 0,
      "outputs": [
        {
          "output_type": "display_data",
          "data": {
            "image/png": "[encoded data removed]",
            "text/plain": [
              "<Figure size 432x288 with 1 Axes>"
            ]
          },
          "metadata": {
            "tags": []
          }
        }
      ]
    },
    {
      "cell_type": "code",
      "metadata": {
        "id": "BPbndjeG4bb3",
        "colab_type": "code",
        "colab": {}
      },
      "source": [
        ""
      ],
      "execution_count": 0,
      "outputs": []
    }
  ]
}